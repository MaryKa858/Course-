{
 "cells": [
  {
   "cell_type": "markdown",
   "id": "e7c3baaa",
   "metadata": {},
   "source": [
    "### Корреляционный анализ с помощью Python. Домашнее задание"
   ]
  },
  {
   "cell_type": "markdown",
   "id": "dc0530d6",
   "metadata": {},
   "source": [
    "Чтобы закрепить знания и навыки, полученные во время воркшопа, я предлагаю вам провести корреляционный анализ с помощью Python самостоятельно и исследовать как взаимодействуют между собой вда фактора. В качестве данных для исследования вы будете использовать датасет, собранный `Gapminder Foundation` \n",
    "\n",
    "Датасет находится по ссылке:\n",
    "https://github.com/VasilisaS/product_star_mentoring/blob/main/gapminder.csv\n",
    "\n",
    "Для работы с данными их  нужно скачать по ссылке выше. Скачивайте обязательно в папку, где лежит Python-ноутбук, с которыми вы будете работать. Таким образом этот файл будет доступен для использования.\n",
    "\n",
    "Набор данных `Gapminder` содержит набор переменных, используемых для оценки общего \n",
    "состояния здоровья и благополучия населения в странах по всему миру. "
   ]
  },
  {
   "cell_type": "markdown",
   "id": "edd2528b",
   "metadata": {},
   "source": [
    "##### Импортируем необходимые модули"
   ]
  },
  {
   "cell_type": "code",
   "execution_count": 1,
   "id": "ecaaa339",
   "metadata": {},
   "outputs": [],
   "source": [
    "import statsmodels.formula.api as smf\n",
    "import statsmodels.stats.multicomp as multi\n",
    "import scipy\n",
    "import pandas as pd\n",
    "from seaborn import regplot\n",
    "import matplotlib.pyplot as plt\n",
    "import numpy as np\n",
    "import seaborn as sns"
   ]
  },
  {
   "cell_type": "markdown",
   "id": "fae5367b",
   "metadata": {},
   "source": [
    "##### Исследуем данные, с которыми будем работать "
   ]
  },
  {
   "cell_type": "code",
   "execution_count": 2,
   "id": "9b56b474",
   "metadata": {},
   "outputs": [
    {
     "data": {
      "text/html": [
       "<div>\n",
       "<style scoped>\n",
       "    .dataframe tbody tr th:only-of-type {\n",
       "        vertical-align: middle;\n",
       "    }\n",
       "\n",
       "    .dataframe tbody tr th {\n",
       "        vertical-align: top;\n",
       "    }\n",
       "\n",
       "    .dataframe thead th {\n",
       "        text-align: right;\n",
       "    }\n",
       "</style>\n",
       "<table border=\"1\" class=\"dataframe\">\n",
       "  <thead>\n",
       "    <tr style=\"text-align: right;\">\n",
       "      <th></th>\n",
       "      <th>country</th>\n",
       "      <th>incomeperperson</th>\n",
       "      <th>alcconsumption</th>\n",
       "      <th>armedforcesrate</th>\n",
       "      <th>breastcancerper100th</th>\n",
       "      <th>co2emissions</th>\n",
       "      <th>femaleemployrate</th>\n",
       "      <th>hivrate</th>\n",
       "      <th>internetuserate</th>\n",
       "      <th>lifeexpectancy</th>\n",
       "      <th>oilperperson</th>\n",
       "      <th>polityscore</th>\n",
       "      <th>relectricperperson</th>\n",
       "      <th>suicideper100th</th>\n",
       "      <th>employrate</th>\n",
       "      <th>urbanrate</th>\n",
       "    </tr>\n",
       "  </thead>\n",
       "  <tbody>\n",
       "    <tr>\n",
       "      <th>0</th>\n",
       "      <td>Afghanistan</td>\n",
       "      <td></td>\n",
       "      <td>.03</td>\n",
       "      <td>.5696534</td>\n",
       "      <td>26.8</td>\n",
       "      <td>75944000</td>\n",
       "      <td>25.6000003814697</td>\n",
       "      <td></td>\n",
       "      <td>3.65412162280064</td>\n",
       "      <td>48.673</td>\n",
       "      <td></td>\n",
       "      <td>0</td>\n",
       "      <td></td>\n",
       "      <td>6.68438529968262</td>\n",
       "      <td>55.7000007629394</td>\n",
       "      <td>24.04</td>\n",
       "    </tr>\n",
       "    <tr>\n",
       "      <th>1</th>\n",
       "      <td>Albania</td>\n",
       "      <td>1914.99655094922</td>\n",
       "      <td>7.29</td>\n",
       "      <td>1.0247361</td>\n",
       "      <td>57.4</td>\n",
       "      <td>223747333.333333</td>\n",
       "      <td>42.0999984741211</td>\n",
       "      <td></td>\n",
       "      <td>44.9899469578783</td>\n",
       "      <td>76.918</td>\n",
       "      <td></td>\n",
       "      <td>9</td>\n",
       "      <td>636.341383366604</td>\n",
       "      <td>7.69932985305786</td>\n",
       "      <td>51.4000015258789</td>\n",
       "      <td>46.72</td>\n",
       "    </tr>\n",
       "    <tr>\n",
       "      <th>2</th>\n",
       "      <td>Algeria</td>\n",
       "      <td>2231.99333515006</td>\n",
       "      <td>.69</td>\n",
       "      <td>2.306817</td>\n",
       "      <td>23.5</td>\n",
       "      <td>2932108666.66667</td>\n",
       "      <td>31.7000007629394</td>\n",
       "      <td>.1</td>\n",
       "      <td>12.5000733055148</td>\n",
       "      <td>73.131</td>\n",
       "      <td>.42009452521537</td>\n",
       "      <td>2</td>\n",
       "      <td>590.509814347428</td>\n",
       "      <td>4.8487696647644</td>\n",
       "      <td>50.5</td>\n",
       "      <td>65.22</td>\n",
       "    </tr>\n",
       "    <tr>\n",
       "      <th>3</th>\n",
       "      <td>Andorra</td>\n",
       "      <td>21943.3398976022</td>\n",
       "      <td>10.17</td>\n",
       "      <td></td>\n",
       "      <td></td>\n",
       "      <td></td>\n",
       "      <td></td>\n",
       "      <td></td>\n",
       "      <td>81</td>\n",
       "      <td></td>\n",
       "      <td></td>\n",
       "      <td></td>\n",
       "      <td></td>\n",
       "      <td>5.36217880249023</td>\n",
       "      <td></td>\n",
       "      <td>88.92</td>\n",
       "    </tr>\n",
       "    <tr>\n",
       "      <th>4</th>\n",
       "      <td>Angola</td>\n",
       "      <td>1381.00426770244</td>\n",
       "      <td>5.57</td>\n",
       "      <td>1.4613288</td>\n",
       "      <td>23.1</td>\n",
       "      <td>248358000</td>\n",
       "      <td>69.4000015258789</td>\n",
       "      <td>2</td>\n",
       "      <td>9.99995388324075</td>\n",
       "      <td>51.093</td>\n",
       "      <td></td>\n",
       "      <td>-2</td>\n",
       "      <td>172.999227388199</td>\n",
       "      <td>14.5546770095825</td>\n",
       "      <td>75.6999969482422</td>\n",
       "      <td>56.7</td>\n",
       "    </tr>\n",
       "  </tbody>\n",
       "</table>\n",
       "</div>"
      ],
      "text/plain": [
       "       country   incomeperperson alcconsumption armedforcesrate  \\\n",
       "0  Afghanistan                              .03        .5696534   \n",
       "1      Albania  1914.99655094922           7.29       1.0247361   \n",
       "2      Algeria  2231.99333515006            .69        2.306817   \n",
       "3      Andorra  21943.3398976022          10.17                   \n",
       "4       Angola  1381.00426770244           5.57       1.4613288   \n",
       "\n",
       "  breastcancerper100th      co2emissions  femaleemployrate hivrate  \\\n",
       "0                 26.8          75944000  25.6000003814697           \n",
       "1                 57.4  223747333.333333  42.0999984741211           \n",
       "2                 23.5  2932108666.66667  31.7000007629394      .1   \n",
       "3                                                                    \n",
       "4                 23.1         248358000  69.4000015258789       2   \n",
       "\n",
       "    internetuserate lifeexpectancy     oilperperson polityscore  \\\n",
       "0  3.65412162280064         48.673                            0   \n",
       "1  44.9899469578783         76.918                            9   \n",
       "2  12.5000733055148         73.131  .42009452521537           2   \n",
       "3                81                                               \n",
       "4  9.99995388324075         51.093                           -2   \n",
       "\n",
       "  relectricperperson   suicideper100th        employrate urbanrate  \n",
       "0                     6.68438529968262  55.7000007629394     24.04  \n",
       "1   636.341383366604  7.69932985305786  51.4000015258789     46.72  \n",
       "2   590.509814347428   4.8487696647644              50.5     65.22  \n",
       "3                     5.36217880249023                       88.92  \n",
       "4   172.999227388199  14.5546770095825  75.6999969482422      56.7  "
      ]
     },
     "execution_count": 2,
     "metadata": {},
     "output_type": "execute_result"
    }
   ],
   "source": [
    "# загружаем данные \n",
    "df = pd.read_csv(\"gapminder.csv\") \n",
    "df.head()"
   ]
  },
  {
   "cell_type": "markdown",
   "id": "9060d1b2",
   "metadata": {},
   "source": [
    "Как мы видим, в данных есть пропущенные значения (это пустая ячейка). \n",
    "\n",
    "Для исследования данных с помощью корреляционного анализа необходимо совпадение числа наблюдений для обоих факторов (фактором в данном случае можно назвать любой из столбцов). Обработаем пропущенные значения"
   ]
  },
  {
   "cell_type": "code",
   "execution_count": 3,
   "id": "f7b5fa30",
   "metadata": {},
   "outputs": [
    {
     "name": "stdout",
     "output_type": "stream",
     "text": [
      "Есть ли пропущенные значения?  False\n",
      "\n"
     ]
    }
   ],
   "source": [
    "# для нескольких факторов проверим, есть ли среди наблюдений пропущенные значения и сколько их\n",
    "\n",
    "print(\"Есть ли пропущенные значения? \", df.isnull().values.any())\n",
    "print()"
   ]
  },
  {
   "cell_type": "markdown",
   "id": "ba98fbd2",
   "metadata": {},
   "source": [
    "Получен интересный результат. Утверждается, что пропусков нет, однако, мы видим, что у нас в столбах довольно много пустых ячеек.\n",
    "\n",
    "Дело вот в чем ... \n",
    "Обыкновенно пропущенное значение характеризуется как None, то есть прото ничего не написано. Однако, именно этот датасет специфичен тем, что на месте пропущенных ячеек стоит пробел ' ', но не None. Из-за этого встроенная функция не смогла дать корректный ответ, когда мы попытались проверить наличие пропусков"
   ]
  },
  {
   "cell_type": "code",
   "execution_count": 4,
   "id": "64cd36ef",
   "metadata": {},
   "outputs": [],
   "source": [
    "# создадим несколько кастомных функций для работы с пропусками \n",
    "\n",
    "# функция проверяет пропущенные значения\n",
    "def check_missing_values(df, cols): \n",
    "    for col in cols: \n",
    "        print(\"Column {} is missing:\".format(col)) \n",
    "        print((df[col].values == ' ').sum()) \n",
    "        print() \n",
    "        \n",
    "# функция ковертирует значения в числовые\n",
    "def convert_numeric(dataframe, cols): \n",
    "    for col in cols: \n",
    "        dataframe[col] = pd.to_numeric(dataframe[col], \n",
    "                                       errors='coerce') "
   ]
  },
  {
   "cell_type": "code",
   "execution_count": 5,
   "id": "e7f6af32",
   "metadata": {},
   "outputs": [],
   "source": [
    "cols = ['internetuserate', 'employrate']\n",
    "\n",
    "df2 = df.copy()\n",
    "\n",
    "convert_numeric(df2, cols)"
   ]
  },
  {
   "cell_type": "code",
   "execution_count": 6,
   "id": "db0eec28",
   "metadata": {},
   "outputs": [
    {
     "name": "stdout",
     "output_type": "stream",
     "text": [
      "Column internetuserate is missing:\n",
      "21\n",
      "\n",
      "Column employrate is missing:\n",
      "35\n",
      "\n"
     ]
    }
   ],
   "source": [
    "# Задание 1.\n",
    "\n",
    "# найдем число пропусков в столбцах 'internetuserate', 'employrate'\n",
    "\n",
    "check_missing_values(df, cols)"
   ]
  },
  {
   "cell_type": "markdown",
   "id": "7d04b036",
   "metadata": {},
   "source": [
    "Как видим, написание кастомной функции позволило корректно находить пропуски в данных. Ведь мы видим, что их точно больше 0"
   ]
  },
  {
   "cell_type": "markdown",
   "id": "75c1b246",
   "metadata": {},
   "source": [
    "Удалим пропуски в данных. Это позволит быть уверенными, что в вариационных рядах для двух факторво число наблюдений точно совпадает."
   ]
  },
  {
   "cell_type": "code",
   "execution_count": 7,
   "id": "cbb82773",
   "metadata": {},
   "outputs": [],
   "source": [
    "df_clean = df2[['country','internetuserate', 'employrate']].dropna()"
   ]
  },
  {
   "cell_type": "code",
   "execution_count": 20,
   "id": "7ce6358f",
   "metadata": {},
   "outputs": [
    {
     "name": "stdout",
     "output_type": "stream",
     "text": [
      "46\n"
     ]
    }
   ],
   "source": [
    "# Задание 2.\n",
    "\n",
    "# Выведите число удаленных строк\n",
    "first = len(df2)\n",
    "second = len(df_clean)\n",
    "print(first - second)"
   ]
  },
  {
   "cell_type": "markdown",
   "id": "eeb6f46f",
   "metadata": {},
   "source": [
    "##### Визуализация"
   ]
  },
  {
   "cell_type": "code",
   "execution_count": 21,
   "id": "960e1828",
   "metadata": {},
   "outputs": [],
   "source": [
    "# создадим функцию для построения графиков\n",
    "\n",
    "# x - вариационный ряд для фактора 1 \n",
    "# y - вариационный ряд для фактора 1\n",
    "# data - полный датасет, с которым мы работаем df_clean\n",
    "# label_1 - название фактора 1\n",
    "# label_2 - название фактора 2\n",
    "\n",
    "def plt_regression(x, y, data, label_1, label_2):\n",
    "\n",
    "    reg_plot = regplot(x=x, y=y, fit_reg=True, data=data)\n",
    "    plt.xlabel(label_1)\n",
    "    plt.ylabel(label_2)\n",
    "    plt.show()"
   ]
  },
  {
   "cell_type": "markdown",
   "id": "95052f12",
   "metadata": {},
   "source": [
    "##### А теперь время поисследовать как соотносятся тренды двух факторов между собой\n",
    "\n",
    "Предлагаю вам поисследовать два фактора: Уровень занятости населения (employrate) и Уровень использования интернета (internetuserate)"
   ]
  },
  {
   "cell_type": "code",
   "execution_count": 37,
   "id": "17e203cc",
   "metadata": {},
   "outputs": [
    {
     "data": {
      "image/png": "[encoded data removed]",
      "text/plain": [
       "<Figure size 640x480 with 1 Axes>"
      ]
     },
     "metadata": {},
     "output_type": "display_data"
    }
   ],
   "source": [
    "# Задание 3. \n",
    "# Постройте график зависимости 'employrate' и 'internetuserate' \n",
    "# с помощью функции plt_regression (ее мы определили выше)\n",
    "plt_regression(\"employrate\", \"internetuserate\", df_clean, \"Employrate\", \"Intertet Userate\")"
   ]
  },
  {
   "cell_type": "markdown",
   "id": "5ee1a794",
   "metadata": {},
   "source": [
    "Какие выводы можно сделать из построенного графика?"
   ]
  },
  {
   "cell_type": "markdown",
   "id": "5227944b",
   "metadata": {},
   "source": [
    "##### Вычилим значение коэффициента корреляции для факторов 'employrate' и 'internetuserate'\n",
    "\n",
    "В случае текущих данных нам можно применить корреляцию Пирсона. На это есть несколько причин:\n",
    "- у нас есть точные наблюдаемые значения (не приближенные, с которыми помогает работать коэффициент корреляции Спирмена)\n",
    "- корреляция Пирсона похзволяет получать более точные значения, так как работает с точными значениями"
   ]
  },
  {
   "cell_type": "code",
   "execution_count": 38,
   "id": "354b9c17",
   "metadata": {},
   "outputs": [],
   "source": [
    "# для его вычисления вопользуемся встроенной функцией библиотеки scipy.stats\n",
    "from scipy.stats import pearsonr"
   ]
  },
  {
   "cell_type": "code",
   "execution_count": 40,
   "id": "1a6a4363",
   "metadata": {},
   "outputs": [
    {
     "name": "stdout",
     "output_type": "stream",
     "text": [
      "Pearson correlation: \n",
      "PearsonRResult(statistic=np.float64(-0.19430856705848104), pvalue=np.float64(0.011863147819071381))\n"
     ]
    }
   ],
   "source": [
    "# Задание 4. Вычислим коэффициент корреляции для исследуемых факторов - employrate и internetuserate\n",
    "\n",
    "# передаем в функцию две переменные - набор значений для первого фактора и для второго. \n",
    "\n",
    "print('Pearson correlation: ')\n",
    "print(pearsonr(df_clean['employrate'], \n",
    "               df_clean['internetuserate']))"
   ]
  },
  {
   "cell_type": "code",
   "execution_count": null,
   "id": "a2f1daa6",
   "metadata": {},
   "outputs": [],
   "source": []
  }
 ],
 "metadata": {
  "kernelspec": {
   "display_name": "Python 3 (ipykernel)",
   "language": "python",
   "name": "python3"
  },
  "language_info": {
   "codemirror_mode": {
    "name": "ipython",
    "version": 3
   },
   "file_extension": ".py",
   "mimetype": "text/x-python",
   "name": "python",
   "nbconvert_exporter": "python",
   "pygments_lexer": "ipython3",
   "version": "3.13.7"
  }
 },
 "nbformat": 4,
 "nbformat_minor": 5
}
